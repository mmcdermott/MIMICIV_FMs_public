{
 "cells": [
  {
   "cell_type": "markdown",
   "id": "88bf968c",
   "metadata": {},
   "source": [
    "# Build Task DataFrames over MIMIC-IV"
   ]
  },
  {
   "cell_type": "code",
   "execution_count": 1,
   "id": "ad9bd315",
   "metadata": {},
   "outputs": [],
   "source": [
    "%load_ext autoreload\n",
    "%load_ext memory_profiler\n",
    "\n",
    "import os\n",
    "import sys\n",
    "\n",
    "import rootutils\n",
    "\n",
    "root = rootutils.setup_root(os.path.abspath(\"\"), dotenv=True, pythonpath=True, cwd=False)\n",
    "sys.path.append(os.environ[\"EVENT_STREAM_PATH\"])"
   ]
  },
  {
   "cell_type": "code",
   "execution_count": 2,
   "id": "e17563ea",
   "metadata": {},
   "outputs": [],
   "source": [
    "%autoreload\n",
    "\n",
    "from pathlib import Path\n",
    "\n",
    "import polars as pl\n",
    "from EventStream.data.dataset_polars import Dataset"
   ]
  },
  {
   "cell_type": "code",
   "execution_count": 28,
   "id": "f78b7993",
   "metadata": {},
   "outputs": [],
   "source": [
    "COHORT_NAME = \"MIMIC_IV/12-4-23-1\"\n",
    "PROJECT_DIR = Path(os.environ[\"PROJECT_DIR\"])\n",
    "DATA_DIR = PROJECT_DIR / \"data\" / COHORT_NAME\n",
    "assert DATA_DIR.is_dir()\n",
    "\n",
    "TASK_DF_DIR = DATA_DIR / \"task_dfs\"\n",
    "TASK_DF_DIR.mkdir(exist_ok=True, parents=False)\n",
    "\n",
    "ESD = Dataset.load(DATA_DIR)\n",
    "\n",
    "DO_ESDS = True\n",
    "if DO_ESDS:\n",
    "    ESDS_TASKS_DIR = DATA_DIR / \"as_ESDS\" / \"tasks\"\n",
    "    ESDS_TASKS_DIR.mkdir(exist_ok=True, parents=True)"
   ]
  },
  {
   "cell_type": "markdown",
   "id": "e75b1f7b",
   "metadata": {},
   "source": [
    "# Event Timing Tasks"
   ]
  },
  {
   "cell_type": "code",
   "execution_count": 8,
   "id": "a4188efb",
   "metadata": {},
   "outputs": [],
   "source": [
    "def has_event_type(type_str: str) -> pl.Expr:\n",
    "    event_types = pl.col(\"event_type\").cast(pl.Utf8).str.split(\"&\")\n",
    "    return event_types.list.contains(type_str)"
   ]
  },
  {
   "cell_type": "markdown",
   "id": "a263641d",
   "metadata": {},
   "source": [
    "## Readmission Risk Prediction"
   ]
  },
  {
   "cell_type": "code",
   "execution_count": 19,
   "id": "461f921d",
   "metadata": {},
   "outputs": [
    {
     "name": "stdout",
     "output_type": "stream",
     "text": [
      "The MIMIC_IV/12-4-23-1 cohort has a 32.6% 30d readmission prevalence.\n",
      "peak memory: 1155.97 MiB, increment: 217.58 MiB\n",
      "CPU times: user 8.73 s, sys: 480 ms, total: 9.21 s\n",
      "Wall time: 5.64 s\n"
     ]
    }
   ],
   "source": [
    "%%time\n",
    "%%memit\n",
    "\n",
    "events_df = ESD.events_df.lazy()\n",
    "\n",
    "readmission_30d = events_df.with_columns(\n",
    "    has_event_type('DISCHARGE').alias('is_discharge'),\n",
    "    has_event_type('ADMISSION').alias('is_admission')\n",
    ").filter(\n",
    "    pl.col('is_discharge') | pl.col('is_admission')\n",
    ").sort(\n",
    "    ['subject_id', 'timestamp'], descending=False\n",
    ").with_columns(\n",
    "    pl.when(\n",
    "        pl.col('is_admission')\n",
    "    ).then(\n",
    "        pl.col('timestamp')\n",
    "    ).otherwise(\n",
    "        None\n",
    "    ).alias(\n",
    "        'admission_time'\n",
    "    ).cast(\n",
    "        pl.Datetime\n",
    "    )\n",
    ").with_columns(\n",
    "    pl.col('admission_time').fill_null(strategy='backward').over('subject_id').alias('next_admission_time'),\n",
    "    pl.col('admission_time').fill_null(strategy='forward').over('subject_id').alias('prev_admission_time'),\n",
    ").with_columns(\n",
    "    (\n",
    "        (pl.col('next_admission_time') - pl.col('timestamp')) < pl.duration(days=30)\n",
    "    ).fill_null(False).alias('30d_readmission')\n",
    ").filter(\n",
    "    pl.col('is_discharge')\n",
    ")\n",
    "\n",
    "readmission_30d_all = readmission_30d.select(\n",
    "    'subject_id', pl.lit(None).cast(pl.Datetime).alias('start_time'), pl.col('timestamp').alias('end_time'), \n",
    "    '30d_readmission'\n",
    ")\n",
    "\n",
    "readmission_30d_admission_only = readmission_30d.select(\n",
    "    'subject_id', pl.col('prev_admission_time').alias('start_time'), pl.col('timestamp').alias('end_time'),\n",
    "    '30d_readmission'\n",
    ")\n",
    "\n",
    "readmission_30d_all.collect().write_parquet(\n",
    "    TASK_DF_DIR / 'readmission_30d_all.parquet', use_pyarrow=True\n",
    ")\n",
    "readmission_30d_admission_only.collect().write_parquet(\n",
    "    TASK_DF_DIR / 'readmission_30d_admission_only.parquet', use_pyarrow=True\n",
    ")\n",
    "\n",
    "prevalence = readmission_30d_all.select(pl.col(\"30d_readmission\").mean()).collect().item()\n",
    "print(f\"The {COHORT_NAME} cohort has a {prevalence*100:.1f}% 30d readmission prevalence.\")"
   ]
  },
  {
   "cell_type": "code",
   "execution_count": 18,
   "id": "89c1e9e5",
   "metadata": {},
   "outputs": [],
   "source": [
    "if DO_ESDS:\n",
    "    (\n",
    "        readmission_30d_all\n",
    "        .select(pl.col(\"subject_id\").alias(\"patient_id\"), \"end_time\", \"30d_readmission\")\n",
    "        .collect()\n",
    "        .write_parquet(ESDS_TASKS_DIR / \"readmission_30d.parquet\", use_pyarrow=True)\n",
    "    )"
   ]
  },
  {
   "cell_type": "markdown",
   "id": "ec2d75c3",
   "metadata": {},
   "source": [
    "## In-hospital Mortality after 24-hrs in-ICU Risk Prediction"
   ]
  },
  {
   "cell_type": "code",
   "execution_count": 21,
   "id": "e6729942",
   "metadata": {},
   "outputs": [],
   "source": [
    "in_hosp_mort = (\n",
    "    events_df.with_columns(\n",
    "        has_event_type('DEATH').alias('is_death'),\n",
    "        has_event_type('DISCHARGE').alias('is_discharge'),\n",
    "        has_event_type('ICU_STAY_START').alias('is_icustay_admission')\n",
    "    )\n",
    "    .filter(pl.col('is_death') | pl.col('is_icustay_admission') | pl.col('is_discharge'))\n",
    "    .with_columns([\n",
    "        (\n",
    "            pl.when(pl.col(f\"is_{c}\"))\n",
    "            .then(pl.col('timestamp'))\n",
    "            .otherwise(pl.lit(None, dtype=pl.Datetime))\n",
    "            .cast(pl.Datetime)\n",
    "            .alias(f\"{c}_time\")\n",
    "        ) for c in (\"icustay_admission\", \"death\", \"discharge\")\n",
    "    ])\n",
    "    .sort(['subject_id', 'timestamp'], descending=False)\n",
    "    .with_columns(\n",
    "        pl.col('icustay_admission_time')\n",
    "        .fill_null(strategy='forward')\n",
    "        .over('subject_id')\n",
    "        .alias('curr_icustay_admission_start_time'), \n",
    "    )\n",
    "    .group_by('subject_id', 'curr_icustay_admission_start_time')\n",
    "    .agg(\n",
    "        pl.col('death_time').min(),\n",
    "        pl.col('discharge_time').min(),\n",
    "    ))"
   ]
  },
  {
   "cell_type": "code",
   "execution_count": 27,
   "id": "13ec12e8",
   "metadata": {},
   "outputs": [
    {
     "name": "stdout",
     "output_type": "stream",
     "text": [
      "The MIMIC_IV/12-4-23-1 cohort has a 8.7% in-hospital mortality prevalence in the in_hosp_mort/24h_in_24h_gap sub-cohort.\n",
      "peak memory: 1126.54 MiB, increment: 179.90 MiB\n",
      "CPU times: user 10.6 s, sys: 346 ms, total: 11 s\n",
      "Wall time: 4.71 s\n"
     ]
    }
   ],
   "source": [
    "%%time\n",
    "%%memit\n",
    "\n",
    "events_df = ESD.events_df.lazy()\n",
    "window_size = 24\n",
    "gap_hours = 24\n",
    "\n",
    "task_name = f\"in_hosp_mort/{window_size}h_in_{gap_hours}h_gap\"\n",
    "\n",
    "in_hosp_mort = (\n",
    "    events_df.with_columns(\n",
    "        has_event_type('DEATH').alias('is_death'),\n",
    "        has_event_type('DISCHARGE').alias('is_discharge'),\n",
    "        has_event_type('ICU_STAY_START').alias('is_icustay_admission')\n",
    "    )\n",
    "    .filter(pl.col('is_death') | pl.col('is_icustay_admission') | pl.col('is_discharge'))\n",
    "    .with_columns([\n",
    "        (\n",
    "            pl.when(pl.col(f\"is_{c}\"))\n",
    "            .then(pl.col('timestamp'))\n",
    "            .otherwise(pl.lit(None, dtype=pl.Datetime))\n",
    "            .cast(pl.Datetime)\n",
    "            .alias(f\"{c}_time\")\n",
    "        ) for c in (\"icustay_admission\", \"death\", \"discharge\")\n",
    "    ])\n",
    "    .sort(['subject_id', 'timestamp'], descending=False)\n",
    "    .with_columns(\n",
    "        pl.col('icustay_admission_time')\n",
    "        .fill_null(strategy='forward')\n",
    "        .over('subject_id')\n",
    "        .alias('curr_icustay_admission_start_time'), \n",
    "    )\n",
    "    .group_by('subject_id', 'curr_icustay_admission_start_time')\n",
    "    .agg(\n",
    "        pl.col('death_time').min(),\n",
    "        pl.col('discharge_time').min(),\n",
    "    )\n",
    "    .filter(\n",
    "        (\n",
    "            pl.min_horizontal('death_time', 'discharge_time') -\n",
    "            pl.col('curr_icustay_admission_start_time')\n",
    "        ) > pl.duration(hours=(window_size + gap_hours))\n",
    "    )\n",
    "    .with_columns(\n",
    "        (pl.col('death_time').is_not_null() & (pl.col('death_time') <= pl.col('discharge_time')))\n",
    "        .alias('in_hosp_mortality')\n",
    "    )\n",
    "    .select(\n",
    "        'subject_id',\n",
    "        pl.lit(None, dtype=pl.Datetime).alias('start_time'),\n",
    "        (pl.col('curr_icustay_admission_start_time') + pl.duration(hours=window_size)).alias('end_time'),\n",
    "        'in_hosp_mortality',\n",
    "    )\n",
    ")\n",
    "\n",
    "task_fp = TASK_DF_DIR / f\"{task_name}.parquet\"\n",
    "task_fp.parent.mkdir(exist_ok=True, parents=True)\n",
    "\n",
    "in_hosp_mort.collect().write_parquet(task_fp, use_pyarrow=True)\n",
    "\n",
    "prevalence = in_hosp_mort.select(pl.col(\"in_hosp_mortality\").mean()).collect().item()\n",
    "print(\n",
    "    f\"The {COHORT_NAME} cohort has a {prevalence*100:.1f}% in-hospital mortality prevalence \"\n",
    "    f\"in the {task_name} sub-cohort.\"\n",
    ")"
   ]
  },
  {
   "cell_type": "code",
   "execution_count": 30,
   "id": "5b85d1c0",
   "metadata": {},
   "outputs": [],
   "source": [
    "if DO_ESDS:\n",
    "    esds_task_fp = ESDS_TASKS_DIR / f\"{task_name}.parquet\"\n",
    "    esds_task_fp.parent.mkdir(exist_ok=True, parents=True)\n",
    "    (\n",
    "        in_hosp_mort\n",
    "        .select(pl.col(\"subject_id\").alias(\"patient_id\"), \"end_time\", \"in_hosp_mortality\")\n",
    "        .collect()\n",
    "        .write_parquet(esds_task_fp, use_pyarrow=True)\n",
    "    )"
   ]
  },
  {
   "cell_type": "code",
   "execution_count": null,
   "id": "c9ec1812",
   "metadata": {},
   "outputs": [],
   "source": []
  }
 ],
 "metadata": {
  "kernelspec": {
   "display_name": "Python 3 (ipykernel)",
   "language": "python",
   "name": "python3"
  },
  "language_info": {
   "codemirror_mode": {
    "name": "ipython",
    "version": 3
   },
   "file_extension": ".py",
   "mimetype": "text/x-python",
   "name": "python",
   "nbconvert_exporter": "python",
   "pygments_lexer": "ipython3",
   "version": "3.10.10"
  }
 },
 "nbformat": 4,
 "nbformat_minor": 5
}
