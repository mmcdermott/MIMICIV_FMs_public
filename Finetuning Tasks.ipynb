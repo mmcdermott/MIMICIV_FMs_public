{
 "cells": [
  {
   "cell_type": "markdown",
   "id": "22f2a71f",
   "metadata": {},
   "source": [
    "# Finetuning Task Baselines"
   ]
  },
  {
   "cell_type": "code",
   "execution_count": 1,
   "id": "a8c74a81",
   "metadata": {},
   "outputs": [],
   "source": [
    "%load_ext autoreload\n",
    "%load_ext memory_profiler\n",
    "\n",
    "import os, sys\n",
    "import rootutils\n",
    "\n",
    "root = rootutils.setup_root(os.path.abspath(\"\"), dotenv=True, pythonpath=True, cwd=False)\n",
    "sys.path.append(os.environ[\"EVENT_STREAM_PATH\"])"
   ]
  },
  {
   "cell_type": "code",
   "execution_count": 2,
   "id": "cd4c4571",
   "metadata": {},
   "outputs": [],
   "source": [
    "%autoreload\n",
    "# Imports\n",
    "import os\n",
    "from pathlib import Path\n",
    "import polars as pl, numpy as np\n",
    "import polars.selectors as cs\n",
    "\n",
    "from EventStream.data.dataset_polars import Dataset\n",
    "from EventStream.evaluation.FT_task_baseline import (\n",
    "    load_flat_rep, fit_baseline_task_model, add_tasks_from, summarize_binary_task\n",
    ")\n",
    "import json\n",
    "from tqdm.auto import tqdm\n",
    "\n",
    "from sklearn.ensemble import RandomForestClassifier\n",
    "\n",
    "from pathlib import Path\n",
    "\n",
    "import polars as pl\n",
    "from EventStream.data.dataset_polars import Dataset"
   ]
  },
  {
   "cell_type": "code",
   "execution_count": 3,
   "id": "942e8049",
   "metadata": {},
   "outputs": [],
   "source": [
    "COHORT_NAME = \"MIMIC_IV/ESD_07-23-23_150GB_10cpu-1\"\n",
    "PROJECT_DIR = Path(os.environ[\"PROJECT_DIR\"])\n",
    "DATA_DIR = PROJECT_DIR / \"data\" / COHORT_NAME\n",
    "assert DATA_DIR.is_dir()\n",
    "\n",
    "TASK_DF_DIR = DATA_DIR / \"task_dfs\"\n",
    "TASK_DF_DIR.mkdir(exist_ok=True, parents=False)\n",
    "\n",
    "ESD = Dataset.load(DATA_DIR)"
   ]
  },
  {
   "cell_type": "code",
   "execution_count": 4,
   "id": "e373b651",
   "metadata": {
    "scrolled": false
   },
   "outputs": [
    {
     "name": "stdout",
     "output_type": "stream",
     "text": [
      "readmission_30d_all\n"
     ]
    },
    {
     "data": {
      "text/html": [
       "<div><style>\n",
       ".dataframe > thead > tr > th,\n",
       ".dataframe > tbody > tr > td {\n",
       "  text-align: right;\n",
       "}\n",
       "</style>\n",
       "<small>shape: (1, 4)</small><table border=\"1\" class=\"dataframe\"><thead><tr><th>n_samples_overall</th><th>median_samples_per_subject</th><th>30d_readmission/subject Mean</th><th>30d_readmission</th></tr><tr><td>u32</td><td>f64</td><td>f64</td><td>f64</td></tr></thead><tbody><tr><td>70614</td><td>4.0</td><td>0.258851</td><td>0.326224</td></tr></tbody></table></div>"
      ],
      "text/plain": [
       "shape: (1, 4)\n",
       "┌───────────────────┬────────────────────────────┬──────────────────────────────┬─────────────────┐\n",
       "│ n_samples_overall ┆ median_samples_per_subject ┆ 30d_readmission/subject Mean ┆ 30d_readmission │\n",
       "│ ---               ┆ ---                        ┆ ---                          ┆ ---             │\n",
       "│ u32               ┆ f64                        ┆ f64                          ┆ f64             │\n",
       "╞═══════════════════╪════════════════════════════╪══════════════════════════════╪═════════════════╡\n",
       "│ 70614             ┆ 4.0                        ┆ 0.258851                     ┆ 0.326224        │\n",
       "└───────────────────┴────────────────────────────┴──────────────────────────────┴─────────────────┘"
      ]
     },
     "metadata": {},
     "output_type": "display_data"
    },
    {
     "name": "stdout",
     "output_type": "stream",
     "text": [
      "readmission_30d_admission_only\n"
     ]
    },
    {
     "data": {
      "text/html": [
       "<div><style>\n",
       ".dataframe > thead > tr > th,\n",
       ".dataframe > tbody > tr > td {\n",
       "  text-align: right;\n",
       "}\n",
       "</style>\n",
       "<small>shape: (1, 4)</small><table border=\"1\" class=\"dataframe\"><thead><tr><th>n_samples_overall</th><th>median_samples_per_subject</th><th>30d_readmission/subject Mean</th><th>30d_readmission</th></tr><tr><td>u32</td><td>f64</td><td>f64</td><td>f64</td></tr></thead><tbody><tr><td>70614</td><td>4.0</td><td>0.258851</td><td>0.326224</td></tr></tbody></table></div>"
      ],
      "text/plain": [
       "shape: (1, 4)\n",
       "┌───────────────────┬────────────────────────────┬──────────────────────────────┬─────────────────┐\n",
       "│ n_samples_overall ┆ median_samples_per_subject ┆ 30d_readmission/subject Mean ┆ 30d_readmission │\n",
       "│ ---               ┆ ---                        ┆ ---                          ┆ ---             │\n",
       "│ u32               ┆ f64                        ┆ f64                          ┆ f64             │\n",
       "╞═══════════════════╪════════════════════════════╪══════════════════════════════╪═════════════════╡\n",
       "│ 70614             ┆ 4.0                        ┆ 0.258851                     ┆ 0.326224        │\n",
       "└───────────────────┴────────────────────────────┴──────────────────────────────┴─────────────────┘"
      ]
     },
     "metadata": {},
     "output_type": "display_data"
    },
    {
     "name": "stdout",
     "output_type": "stream",
     "text": [
      "in_hosp_mort/24h_in_24h_gap\n"
     ]
    },
    {
     "data": {
      "text/html": [
       "<div><style>\n",
       ".dataframe > thead > tr > th,\n",
       ".dataframe > tbody > tr > td {\n",
       "  text-align: right;\n",
       "}\n",
       "</style>\n",
       "<small>shape: (1, 4)</small><table border=\"1\" class=\"dataframe\"><thead><tr><th>n_samples_overall</th><th>median_samples_per_subject</th><th>in_hosp_mortality/subject Mean</th><th>in_hosp_mortality</th></tr><tr><td>u32</td><td>f64</td><td>f64</td><td>f64</td></tr></thead><tbody><tr><td>21812</td><td>1.0</td><td>0.109446</td><td>0.087475</td></tr></tbody></table></div>"
      ],
      "text/plain": [
       "shape: (1, 4)\n",
       "┌───────────────────┬────────────────────────────┬─────────────────────────────┬───────────────────┐\n",
       "│ n_samples_overall ┆ median_samples_per_subject ┆ in_hosp_mortality/subject   ┆ in_hosp_mortality │\n",
       "│ ---               ┆ ---                        ┆ Mean                        ┆ ---               │\n",
       "│ u32               ┆ f64                        ┆ ---                         ┆ f64               │\n",
       "│                   ┆                            ┆ f64                         ┆                   │\n",
       "╞═══════════════════╪════════════════════════════╪═════════════════════════════╪═══════════════════╡\n",
       "│ 21812             ┆ 1.0                        ┆ 0.109446                    ┆ 0.087475          │\n",
       "└───────────────────┴────────────────────────────┴─────────────────────────────┴───────────────────┘"
      ]
     },
     "metadata": {},
     "output_type": "display_data"
    }
   ],
   "source": [
    "tasks = add_tasks_from(TASK_DF_DIR)\n",
    "\n",
    "for n, task_df in tasks.items():\n",
    "    print(n)\n",
    "    display(summarize_binary_task(task_df))"
   ]
  }
 ],
 "metadata": {
  "kernelspec": {
   "display_name": "Python 3 (ipykernel)",
   "language": "python",
   "name": "python3"
  },
  "language_info": {
   "codemirror_mode": {
    "name": "ipython",
    "version": 3
   },
   "file_extension": ".py",
   "mimetype": "text/x-python",
   "name": "python",
   "nbconvert_exporter": "python",
   "pygments_lexer": "ipython3",
   "version": "3.10.10"
  }
 },
 "nbformat": 4,
 "nbformat_minor": 5
}
